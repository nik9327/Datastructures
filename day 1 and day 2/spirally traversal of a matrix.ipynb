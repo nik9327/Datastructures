{
 "cells": [
  {
   "cell_type": "code",
   "execution_count": 1,
   "metadata": {},
   "outputs": [
    {
     "name": "stdout",
     "output_type": "stream",
     "text": [
      "1\n",
      "4 4\n",
      "1 2 3 4 5 6 7 8 9 10 11 12 13 14 15 16\n",
      "1 2 3 4 8 12 16 15 14 13 9 5 6 7 11 10 \n"
     ]
    }
   ],
   "source": [
    "\n",
    "class Solution:\n",
    "    \n",
    "    #Function to return a list of integers denoting spiral traversal of matrix.\n",
    "    def spirallyTraverse(self,matrix, r, c): \n",
    "        # code here \n",
    "        temp=[]\n",
    "        top=0\n",
    "        left=0\n",
    "        right=c-1\n",
    "        bottom=r-1\n",
    "        while top<=bottom and left<=right:\n",
    "            for i in range(left,right+1):  # 0 to 3\n",
    "                temp.append(matrix[top][i])  # 1 2 3 4\n",
    "            top+=1                          #top = 1\n",
    "            for i in range(top,bottom+1):     # 1 to 3\n",
    "                temp.append(matrix[i][right])  # 8 12 16\n",
    "            right-=1                            #right 3\n",
    "            if top<=bottom:\n",
    "                for i in range(right,left-1,-1):  # 2 1 0   \n",
    "                    temp.append(matrix[bottom][i]) # 15 14 13 \n",
    "                bottom-=1                            # bottom 3\n",
    "            if left<=right:\n",
    "                for i in range(bottom,top-1,-1):\n",
    "                    temp.append(matrix[i][left])\n",
    "                left+=1\n",
    "        return temp\n",
    "            \n",
    "#{ \n",
    "#  Driver Code Starts\n",
    "#Initial Template for Python 3\n",
    "\n",
    "if __name__ == '__main__':\n",
    "    t = int(input())\n",
    "    for _ in range(t):\n",
    "        r,c = map(int, input().strip().split())\n",
    "        values = list(map(int, input().strip().split()))\n",
    "        k = 0\n",
    "        matrix =[]\n",
    "        for i in range(r):\n",
    "            row=[]\n",
    "            for j in range(c):\n",
    "                row.append(values[k])\n",
    "                k+=1\n",
    "            matrix.append(row)\n",
    "        obj = Solution()\n",
    "        ans = obj.spirallyTraverse(matrix,r,c)\n",
    "        for i in ans:\n",
    "            print(i,end=\" \")\n",
    "        print()\n",
    "\n",
    "# } Driver Code Ends"
   ]
  },
  {
   "cell_type": "code",
   "execution_count": null,
   "metadata": {},
   "outputs": [],
   "source": []
  }
 ],
 "metadata": {
  "kernelspec": {
   "display_name": "Python 3",
   "language": "python",
   "name": "python3"
  },
  "language_info": {
   "codemirror_mode": {
    "name": "ipython",
    "version": 3
   },
   "file_extension": ".py",
   "mimetype": "text/x-python",
   "name": "python",
   "nbconvert_exporter": "python",
   "pygments_lexer": "ipython3",
   "version": "3.8.5"
  }
 },
 "nbformat": 4,
 "nbformat_minor": 4
}
