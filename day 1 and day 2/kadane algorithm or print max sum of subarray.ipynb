{
 "cells": [
  {
   "cell_type": "code",
   "execution_count": 2,
   "metadata": {},
   "outputs": [
    {
     "name": "stdout",
     "output_type": "stream",
     "text": [
      "1\n",
      "15\n",
      "1 -4 5 6 -4 -8 9 9 6 4 -5 6 3 3 4 \n",
      "39\n"
     ]
    }
   ],
   "source": [
    "\n",
    "class Solution:\n",
    "    ##Complete this function\n",
    "    #Function to find the sum of contiguous subarray with maximum sum.\n",
    "    def maxSubArraySum(self,a,size):\n",
    "        ##Your code here\n",
    "        current_sum=a[0]\n",
    "        overall_sum=a[0]\n",
    "        for i in range(1,size):\n",
    "            if current_sum>=0:\n",
    "                current_sum+=a[i]\n",
    "            else:\n",
    "                current_sum=a[i]\n",
    "            if current_sum>overall_sum:\n",
    "                overall_sum=current_sum\n",
    "        return overall_sum\n",
    "\n",
    "#{ \n",
    "#  Driver Code Starts\n",
    "#Initial Template for Python 3\n",
    "\n",
    "import math\n",
    "\n",
    " \n",
    "def main():\n",
    "        T=int(input())\n",
    "        while(T>0):\n",
    "            \n",
    "            n=int(input())\n",
    "            \n",
    "            arr=[int(x) for x in input().strip().split()]\n",
    "            \n",
    "            ob=Solution()\n",
    "            \n",
    "            print(ob.maxSubArraySum(arr,n))\n",
    "            \n",
    "            T-=1\n",
    "\n",
    "\n",
    "if __name__ == \"__main__\":\n",
    "    main()\n",
    "# } Driver Code Ends"
   ]
  },
  {
   "cell_type": "code",
   "execution_count": null,
   "metadata": {},
   "outputs": [],
   "source": []
  }
 ],
 "metadata": {
  "kernelspec": {
   "display_name": "Python 3",
   "language": "python",
   "name": "python3"
  },
  "language_info": {
   "codemirror_mode": {
    "name": "ipython",
    "version": 3
   },
   "file_extension": ".py",
   "mimetype": "text/x-python",
   "name": "python",
   "nbconvert_exporter": "python",
   "pygments_lexer": "ipython3",
   "version": "3.8.5"
  }
 },
 "nbformat": 4,
 "nbformat_minor": 4
}
