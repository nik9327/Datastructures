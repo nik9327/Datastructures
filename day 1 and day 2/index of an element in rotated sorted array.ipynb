{
 "cells": [
  {
   "cell_type": "code",
   "execution_count": 1,
   "metadata": {},
   "outputs": [
    {
     "name": "stdout",
     "output_type": "stream",
     "text": [
      "1\n",
      "9\n",
      "5 6 7 8 9 10 1 2 3\n",
      "10\n",
      "5\n"
     ]
    }
   ],
   "source": [
    "#User function Template for python3\n",
    "\n",
    "class Solution:\n",
    "    def search(self, A : list, start : int, end : int, key : int):\n",
    "        # Complete this function\n",
    "        mid=start+(end-start)//2\n",
    "        if start>end:\n",
    "            return -1\n",
    "        if A[mid]==key:\n",
    "            return mid\n",
    "        elif A[start]<=A[mid]:\n",
    "            if A[start]<=key and A[mid]>=key:\n",
    "                return self.search(A,start,mid-1,key)\n",
    "            else:\n",
    "                return self.search(A,mid+1,end,key)\n",
    "        else:\n",
    "            if A[mid]<=key and A[end]>=key:\n",
    "                return self.search(A,mid+1,end,key)\n",
    "            else:\n",
    "                return self.search(A,start,mid-1,key)\n",
    "#{ \n",
    "#  Driver Code Starts\n",
    "#Initial Template for Python 3\n",
    "\n",
    "if __name__ == '__main__':\n",
    "    t = int(input())\n",
    "    \n",
    "    for _ in range(t):\n",
    "        n = int(input())\n",
    "        A = [int(x) for x in input().split()]\n",
    "        k = int(input())\n",
    "        ob=Solution()\n",
    "        print(ob.search(A, 0, n - 1, k))\n",
    "# } Driver Code Ends"
   ]
  },
  {
   "cell_type": "code",
   "execution_count": null,
   "metadata": {},
   "outputs": [],
   "source": []
  }
 ],
 "metadata": {
  "kernelspec": {
   "display_name": "Python 3",
   "language": "python",
   "name": "python3"
  },
  "language_info": {
   "codemirror_mode": {
    "name": "ipython",
    "version": 3
   },
   "file_extension": ".py",
   "mimetype": "text/x-python",
   "name": "python",
   "nbconvert_exporter": "python",
   "pygments_lexer": "ipython3",
   "version": "3.8.5"
  }
 },
 "nbformat": 4,
 "nbformat_minor": 4
}
