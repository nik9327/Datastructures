{
 "cells": [
  {
   "cell_type": "code",
   "execution_count": 1,
   "metadata": {},
   "outputs": [
    {
     "name": "stdout",
     "output_type": "stream",
     "text": [
      "1\n",
      "4 5\n",
      "1 3 5 7\n",
      "0 2 6 8 9\n",
      "0 1 2 3 5 6 7 8 9\n"
     ]
    }
   ],
   "source": [
    "#User function Template for python3\n",
    "\n",
    "class Solution:\n",
    "    \n",
    "    #Function to merge the arrays.\n",
    "    def merge(self,arr1,arr2,n,m):\n",
    "        #code here\n",
    "        i=0\n",
    "        j=0\n",
    "        x=[]\n",
    "        while i<n and j<m:\n",
    "            if arr1[i]<arr2[j]:\n",
    "                x.append(arr1[i])\n",
    "                i+=1\n",
    "            else:\n",
    "                x.append(arr2[j])\n",
    "                j+=1\n",
    "        while i<n:\n",
    "            x.append(arr1[i])\n",
    "            i+=1\n",
    "        while j <m:\n",
    "            x.append(arr2[j])\n",
    "            j+=1\n",
    "    \n",
    "        arr1[:]=x[:n]\n",
    "        arr2[:]=x[n:]\n",
    "    \n",
    "    \n",
    "\n",
    "\n",
    "#{ \n",
    "#  Driver Code Starts\n",
    "#Initial template for Python\n",
    "\n",
    "if __name__ == '__main__':\n",
    "    t = int(input())\n",
    "    for tt in range(t):\n",
    "        n,m = map(int, input().strip().split())\n",
    "        arr1 = list(map(int, input().strip().split()))\n",
    "        arr2 = list(map(int, input().strip().split()))\n",
    "        ob=Solution()\n",
    "        ob.merge(arr1, arr2, n, m)\n",
    "        print(*arr1,end=\" \")\n",
    "        print(*arr2)\n",
    "# } Driver Code Ends"
   ]
  },
  {
   "cell_type": "code",
   "execution_count": null,
   "metadata": {},
   "outputs": [],
   "source": []
  }
 ],
 "metadata": {
  "kernelspec": {
   "display_name": "Python 3",
   "language": "python",
   "name": "python3"
  },
  "language_info": {
   "codemirror_mode": {
    "name": "ipython",
    "version": 3
   },
   "file_extension": ".py",
   "mimetype": "text/x-python",
   "name": "python",
   "nbconvert_exporter": "python",
   "pygments_lexer": "ipython3",
   "version": "3.8.5"
  }
 },
 "nbformat": 4,
 "nbformat_minor": 4
}
