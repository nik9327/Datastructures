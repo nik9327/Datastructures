{
 "cells": [
  {
   "cell_type": "markdown",
   "metadata": {},
   "source": [
    "# greed approach"
   ]
  },
  {
   "cell_type": "code",
   "execution_count": 2,
   "metadata": {},
   "outputs": [
    {
     "name": "stdout",
     "output_type": "stream",
     "text": [
      "1\n",
      "7\n",
      "0 1 1 1 0 0 0\n",
      "0 0 0 0 1 1 1 \n"
     ]
    }
   ],
   "source": [
    "#User function Template for python3\n",
    "\n",
    "class Solution:\n",
    "    \n",
    "    #Function to sort the binary array.\n",
    "    def binSort(self, A, N): \n",
    "        #Your code here\n",
    "        #No need to print the array\n",
    "        \n",
    "        \n",
    "        one_count=0\n",
    "        zero_count=0\n",
    "        for i in range(N):\n",
    "            if A[i]==0:\n",
    "                zero_count+=1\n",
    "            else:\n",
    "                one_count+=1\n",
    "        B=[]\n",
    "        for j in range(zero_count):\n",
    "            B.append(0)\n",
    "        for j in range(one_count): \n",
    "            B.append(1)\n",
    "        A[:]=B\n",
    "        return A\n",
    "        \n",
    "       \n",
    "        \n",
    "#{ \n",
    "#  Driver Code Starts\n",
    "#Initial Template for Python 3\n",
    "\n",
    "import math\n",
    "\n",
    "\n",
    "def main():\n",
    "        T=int(input())\n",
    "        while(T>0):\n",
    "            N=int(input())\n",
    "            A=list(map(int,input().split()))\n",
    "            obj = Solution()\n",
    "            obj.binSort(A,N)\n",
    "            \n",
    "            for i in A:\n",
    "                print(i,end=\" \")\n",
    "            print()\n",
    "            \n",
    "            T-=1\n",
    "\n",
    "\n",
    "if __name__ == \"__main__\":\n",
    "    main()\n",
    "# } Driver Code Ends"
   ]
  },
  {
   "cell_type": "markdown",
   "metadata": {},
   "source": [
    "# using append method"
   ]
  },
  {
   "cell_type": "code",
   "execution_count": 3,
   "metadata": {},
   "outputs": [
    {
     "name": "stdout",
     "output_type": "stream",
     "text": [
      "1\n",
      "8\n",
      "1 1 0 1 1 0 0 0\n",
      "0 0 0 0 1 1 1 1 \n"
     ]
    }
   ],
   "source": [
    "#User function Template for python3\n",
    "\n",
    "class Solution:\n",
    "    \n",
    "    #Function to sort the binary array.\n",
    "    def binSort(self, A, N): \n",
    "        #Your code here\n",
    "        #No need to print the array\n",
    "        \n",
    "       \n",
    "        zero=[]\n",
    "        one=[]\n",
    "        for i in range(N):\n",
    "            if A[i]==0:\n",
    "                zero.append(A[i])\n",
    "            else:\n",
    "                one.append(A[i])\n",
    "        A[:]=zero+one\n",
    "        \n",
    "#{ \n",
    "#  Driver Code Starts\n",
    "#Initial Template for Python 3\n",
    "\n",
    "import math\n",
    "\n",
    "\n",
    "def main():\n",
    "        T=int(input())\n",
    "        while(T>0):\n",
    "            N=int(input())\n",
    "            A=list(map(int,input().split()))\n",
    "            obj = Solution()\n",
    "            obj.binSort(A,N)\n",
    "            \n",
    "            for i in A:\n",
    "                print(i,end=\" \")\n",
    "            print()\n",
    "            \n",
    "            T-=1\n",
    "\n",
    "\n",
    "if __name__ == \"__main__\":\n",
    "    main()\n",
    "# } Driver Code Ends "
   ]
  },
  {
   "cell_type": "markdown",
   "metadata": {},
   "source": [
    "# using swap method"
   ]
  },
  {
   "cell_type": "code",
   "execution_count": 1,
   "metadata": {},
   "outputs": [
    {
     "name": "stdout",
     "output_type": "stream",
     "text": [
      "1\n",
      "5\n",
      "1 0 1 1 0\n",
      "0 0 1 1 1 \n"
     ]
    }
   ],
   "source": [
    "#User function Template for python3\n",
    "\n",
    "class Solution:\n",
    "    \n",
    "    #Function to sort the binary array.\n",
    "    def binSort(self, A, N): \n",
    "        #Your code here\n",
    "        #No need to print the array\n",
    "        \n",
    "        \n",
    "        start=0\n",
    "        end=N-1\n",
    "        \n",
    "        while start<end:\n",
    "            while start<end and A[start]==0:\n",
    "                start+=1\n",
    "            while start<end and A[end]==1:\n",
    "                end-=1\n",
    "            if start<end:\n",
    "                A[start],A[end]=A[end],A[start]\n",
    "                start+=1\n",
    "                end-=1\n",
    "#{ \n",
    "#  Driver Code Starts\n",
    "#Initial Template for Python 3\n",
    "\n",
    "import math\n",
    "\n",
    "\n",
    "def main():\n",
    "        T=int(input())\n",
    "        while(T>0):\n",
    "            N=int(input())\n",
    "            A=list(map(int,input().split()))\n",
    "            obj = Solution()\n",
    "            obj.binSort(A,N)\n",
    "            \n",
    "            for i in A:\n",
    "                print(i,end=\" \")\n",
    "            print()\n",
    "            \n",
    "            T-=1\n",
    "\n",
    "\n",
    "if __name__ == \"__main__\":\n",
    "    main()\n",
    "# } Driver Code Ends"
   ]
  }
 ],
 "metadata": {
  "kernelspec": {
   "display_name": "Python 3",
   "language": "python",
   "name": "python3"
  },
  "language_info": {
   "codemirror_mode": {
    "name": "ipython",
    "version": 3
   },
   "file_extension": ".py",
   "mimetype": "text/x-python",
   "name": "python",
   "nbconvert_exporter": "python",
   "pygments_lexer": "ipython3",
   "version": "3.8.5"
  }
 },
 "nbformat": 4,
 "nbformat_minor": 4
}
