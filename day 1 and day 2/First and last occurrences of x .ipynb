{
 "cells": [
  {
   "cell_type": "markdown",
   "metadata": {},
   "source": [
    "# using for loop from 1 to n & n to 1"
   ]
  },
  {
   "cell_type": "code",
   "execution_count": 1,
   "metadata": {},
   "outputs": [
    {
     "name": "stdout",
     "output_type": "stream",
     "text": [
      "1\n",
      "9 5\n",
      "1 3 5 5 5 5 67 123 125\n",
      "2 5\n"
     ]
    }
   ],
   "source": [
    "def find(arr,n,x):\n",
    "    # code here\n",
    "    a=-1\n",
    "    b=-1\n",
    "    for i in range(0,n):\n",
    "        if arr[i]==x:\n",
    "            a=i\n",
    "            break\n",
    "    for j in range(n-1,-1,-1):\n",
    "        if arr[j]==x:\n",
    "            b=j\n",
    "            break\n",
    "    return a,b\n",
    "\n",
    "#{ \n",
    "#  Driver Code Starts\n",
    "t=int(input())\n",
    "for _ in range(0,t):\n",
    "    l=list(map(int,input().split()))\n",
    "    n=l[0]\n",
    "    x=l[1]\n",
    "    arr=list(map(int,input().split()))\n",
    "    ans=find(arr,n,x)\n",
    "    print(*ans)\n",
    "# } Driver Code Ends"
   ]
  },
  {
   "cell_type": "markdown",
   "metadata": {},
   "source": [
    "# using while loop"
   ]
  },
  {
   "cell_type": "code",
   "execution_count": 4,
   "metadata": {},
   "outputs": [
    {
     "name": "stdout",
     "output_type": "stream",
     "text": [
      "First Occurrence = 1\n",
      "Last Occurrence = 4\n"
     ]
    }
   ],
   "source": [
    "def first(arr, x, n):\n",
    "     \n",
    "    low = 0\n",
    "    high = n - 1\n",
    "    res = -1\n",
    "     \n",
    "    while (low <= high):\n",
    "        mid = (low + high) // 2\n",
    "         \n",
    "        if arr[mid] > x:\n",
    "            high = mid - 1\n",
    "        elif arr[mid] < x:\n",
    "            low = mid + 1\n",
    "             \n",
    "        else:\n",
    "            res = mid\n",
    "            high = mid - 1\n",
    " \n",
    "    return res\n",
    " \n",
    "def last(arr, x, n):\n",
    "     \n",
    "    low = 0\n",
    "    high = n - 1\n",
    "    res = -1\n",
    "     \n",
    "    while(low <= high):\n",
    "         \n",
    "        mid = (low + high) // 2\n",
    "         \n",
    "        if arr[mid] > x:\n",
    "            high = mid - 1\n",
    "        elif arr[mid] < x:\n",
    "            low = mid + 1\n",
    "        else:\n",
    "            res = mid\n",
    "            low = mid + 1\n",
    " \n",
    "    return res\n",
    " \n",
    "arr = [ 1, 2, 2, 2, 2, 3, 4, 7, 8, 8 ]\n",
    "n = len(arr)\n",
    "x = 2\n",
    " \n",
    "print(\"First Occurrence =\", first(arr, x, n))\n",
    "print(\"Last Occurrence =\", last(arr, x, n))"
   ]
  },
  {
   "cell_type": "code",
   "execution_count": null,
   "metadata": {},
   "outputs": [],
   "source": []
  }
 ],
 "metadata": {
  "kernelspec": {
   "display_name": "Python 3",
   "language": "python",
   "name": "python3"
  },
  "language_info": {
   "codemirror_mode": {
    "name": "ipython",
    "version": 3
   },
   "file_extension": ".py",
   "mimetype": "text/x-python",
   "name": "python",
   "nbconvert_exporter": "python",
   "pygments_lexer": "ipython3",
   "version": "3.8.5"
  }
 },
 "nbformat": 4,
 "nbformat_minor": 4
}
