{
 "cells": [
  {
   "cell_type": "code",
   "execution_count": 1,
   "metadata": {},
   "outputs": [
    {
     "name": "stdout",
     "output_type": "stream",
     "text": [
      "1\n",
      "5\n",
      "3 1 2 1 1\n",
      "1\n"
     ]
    }
   ],
   "source": [
    "class Solution:\n",
    "    def majorityElement(self, A, N):\n",
    "        #Your code here\n",
    "        majelement=A[0]\n",
    "        count=0\n",
    "        n=len(A)\n",
    "        \n",
    "        for i in range(0,n):\n",
    "            if majelement==A[i]:\n",
    "                count+=1\n",
    "            else:\n",
    "                count-=1\n",
    "            if count==0:\n",
    "                majelement=A[i]\n",
    "                count=1\n",
    "        count=0\n",
    "        for i in range(0,n):\n",
    "            if A[i]==majelement:\n",
    "                count+=1\n",
    "        if count>n/2:\n",
    "            return majelement\n",
    "        else:\n",
    "            return -1\n",
    "        \n",
    "#{ \n",
    "#  Driver Code Starts\n",
    "#Initial Template for Python 3\n",
    "\n",
    "import math\n",
    "\n",
    "from sys import stdin\n",
    "\n",
    "\n",
    "def main():\n",
    "        T=int(input())\n",
    "        while(T>0):\n",
    "            \n",
    "            N=int(input())\n",
    "\n",
    "            A=[int(x) for x in input().strip().split()]\n",
    "            \n",
    "            \n",
    "            obj = Solution()\n",
    "            print(obj.majorityElement(A,N))\n",
    "            \n",
    "            T-=1\n",
    "\n",
    "\n",
    "if __name__ == \"__main__\":\n",
    "    main()\n",
    "# } Driver Code Ends"
   ]
  },
  {
   "cell_type": "markdown",
   "metadata": {},
   "source": [
    "# using dictionary"
   ]
  },
  {
   "cell_type": "code",
   "execution_count": 8,
   "metadata": {},
   "outputs": [
    {
     "name": "stdout",
     "output_type": "stream",
     "text": [
      "1\n",
      "7\n",
      "3 3 1 2 2 2 3\n",
      "-1\n"
     ]
    }
   ],
   "source": [
    "class Solution:\n",
    "    def majorityElement(self, A, N):\n",
    "        #Your code here\n",
    "        dict = {}\n",
    " \n",
    "    # store each element's frequency in a dictionary\n",
    "        for i in A:\n",
    "            dict[i] = dict.get(i, 0) + 1\n",
    "     \n",
    "        # return the element if its count is more than `n/2`\n",
    "        for key, value in dict.items():\n",
    "            if value > len(A) / 2:\n",
    "                return key\n",
    "     \n",
    "    # no majority element is present\n",
    "        return -1\n",
    "#{ \n",
    "#  Driver Code Starts\n",
    "#Initial Template for Python 3\n",
    "\n",
    "import math\n",
    "\n",
    "from sys import stdin\n",
    "\n",
    "\n",
    "def main():\n",
    "        T=int(input())\n",
    "        while(T>0):\n",
    "            \n",
    "            N=int(input())\n",
    "\n",
    "            A=[int(x) for x in input().strip().split()]\n",
    "            \n",
    "            \n",
    "            obj = Solution()\n",
    "            print(obj.majorityElement(A,N))\n",
    "            \n",
    "            T-=1\n",
    "\n",
    "\n",
    "if __name__ == \"__main__\":\n",
    "    main()\n",
    "# } Driver Code Ends"
   ]
  },
  {
   "cell_type": "code",
   "execution_count": null,
   "metadata": {},
   "outputs": [],
   "source": []
  }
 ],
 "metadata": {
  "kernelspec": {
   "display_name": "Python 3",
   "language": "python",
   "name": "python3"
  },
  "language_info": {
   "codemirror_mode": {
    "name": "ipython",
    "version": 3
   },
   "file_extension": ".py",
   "mimetype": "text/x-python",
   "name": "python",
   "nbconvert_exporter": "python",
   "pygments_lexer": "ipython3",
   "version": "3.8.5"
  }
 },
 "nbformat": 4,
 "nbformat_minor": 4
}
