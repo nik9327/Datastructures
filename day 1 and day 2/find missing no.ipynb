{
 "cells": [
  {
   "cell_type": "code",
   "execution_count": 1,
   "metadata": {},
   "outputs": [
    {
     "name": "stdout",
     "output_type": "stream",
     "text": [
      "1\n",
      "10\n",
      "1 2 3 4 5 6 7 8 10\n",
      "9\n"
     ]
    }
   ],
   "source": [
    "#User function Template for python3 from geeks for geeks\n",
    "\n",
    "\n",
    "class Solution:\n",
    "    def MissingNumber(self,array,n):\n",
    "        # code here\n",
    "        tsum=int((n*(n+1))/2)\n",
    "        for i in range(n-1):\n",
    "            tsum-=array[i]\n",
    "        return tsum\n",
    "#{ \n",
    "#  Driver Code Starts\n",
    "#Initial Template for Python 3\n",
    "\n",
    "\n",
    "\n",
    "\n",
    "t=int(input())\n",
    "for _ in range(0,t):\n",
    "    n=int(input())\n",
    "    a=list(map(int,input().split()))\n",
    "    s=Solution().MissingNumber(a,n)\n",
    "    print(s)\n",
    "# } Driver Code Ends"
   ]
  },
  {
   "cell_type": "code",
   "execution_count": null,
   "metadata": {},
   "outputs": [],
   "source": []
  }
 ],
 "metadata": {
  "kernelspec": {
   "display_name": "Python 3",
   "language": "python",
   "name": "python3"
  },
  "language_info": {
   "codemirror_mode": {
    "name": "ipython",
    "version": 3
   },
   "file_extension": ".py",
   "mimetype": "text/x-python",
   "name": "python",
   "nbconvert_exporter": "python",
   "pygments_lexer": "ipython3",
   "version": "3.8.5"
  }
 },
 "nbformat": 4,
 "nbformat_minor": 4
}
