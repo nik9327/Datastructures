{
 "cells": [
  {
   "cell_type": "code",
   "execution_count": 1,
   "metadata": {},
   "outputs": [
    {
     "name": "stdout",
     "output_type": "stream",
     "text": [
      "1\n",
      "4\n",
      "7 4 0 9\n",
      "10\n"
     ]
    }
   ],
   "source": [
    "class Solution:\n",
    "    def trappingWater(self, arr,n):\n",
    "        #Code here\n",
    "        left=[0]*n\n",
    "        right=[0]*n\n",
    "        water=0\n",
    "        left[0]=arr[0]\n",
    "        for i in range(1,n):\n",
    "            left[i]=max(left[i-1],arr[i])\n",
    "        right[n-1]=arr[n-1]\n",
    "        for i in range(n-2,-1,-1):\n",
    "            right[i]=max(right[i+1],arr[i])\n",
    "        for j in range(0,n):\n",
    "            water+=min(left[j],right[j])-arr[j]\n",
    "        return water\n",
    "\n",
    "#{ \n",
    "#  Driver Code Starts\n",
    "#Initial Template for Python 3\n",
    "\n",
    "import math\n",
    "\n",
    "\n",
    "\n",
    "def main():\n",
    "        T=int(input())\n",
    "        while(T>0):\n",
    "            \n",
    "            n=int(input())\n",
    "            \n",
    "            arr=[int(x) for x in input().strip().split()]\n",
    "            obj = Solution()\n",
    "            print(obj.trappingWater(arr,n))\n",
    "            \n",
    "            \n",
    "            T-=1\n",
    "\n",
    "\n",
    "if __name__ == \"__main__\":\n",
    "    main()\n",
    "\n",
    "\n",
    "\n",
    "# } Driver Code Ends"
   ]
  },
  {
   "cell_type": "code",
   "execution_count": null,
   "metadata": {},
   "outputs": [],
   "source": []
  }
 ],
 "metadata": {
  "kernelspec": {
   "display_name": "Python 3",
   "language": "python",
   "name": "python3"
  },
  "language_info": {
   "codemirror_mode": {
    "name": "ipython",
    "version": 3
   },
   "file_extension": ".py",
   "mimetype": "text/x-python",
   "name": "python",
   "nbconvert_exporter": "python",
   "pygments_lexer": "ipython3",
   "version": "3.8.5"
  }
 },
 "nbformat": 4,
 "nbformat_minor": 4
}
