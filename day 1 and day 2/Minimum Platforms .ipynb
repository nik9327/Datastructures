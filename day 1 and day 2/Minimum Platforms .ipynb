{
 "cells": [
  {
   "cell_type": "code",
   "execution_count": 2,
   "metadata": {},
   "outputs": [
    {
     "name": "stdout",
     "output_type": "stream",
     "text": [
      "1\n",
      "6\n",
      "0900 0940 0950 1100 1500 1800\n",
      "0910 1200 1120 1130 1900 2000\n",
      "3\n"
     ]
    }
   ],
   "source": [
    "#User function Template for python3\n",
    "\n",
    "class Solution:    \n",
    "    #Function to find the minimum number of platforms required at the\n",
    "    #railway station such that no train waits.\n",
    "    def minimumPlatform(self,n,arr,dep):\n",
    "        # code here\n",
    "        arr=sorted(arr)\n",
    "        dep=sorted(dep)\n",
    "        i=1\n",
    "        j=0\n",
    "        result=1\n",
    "        minplatform=1\n",
    "        while i<n and j<n:\n",
    "            if arr[i]<=dep[j]:\n",
    "                i+=1\n",
    "                minplatform+=1\n",
    "            else:\n",
    "                j+=1\n",
    "                minplatform-=1\n",
    "            result=max(result,minplatform)\n",
    "        return result\n",
    "\n",
    "#{ \n",
    "#  Driver Code Starts\n",
    "#Initial Template for Python 3\n",
    "import atexit\n",
    "import io\n",
    "import sys\n",
    "\n",
    "#Contributed by : Nagendra Jha\n",
    "\n",
    "\n",
    "if __name__ == '__main__':\n",
    "    test_cases = int(input())\n",
    "    for cases in range(test_cases) :\n",
    "        n = int(input())\n",
    "        arrival = list(map(int, input().strip().split()))\n",
    "        departure = list(map(int, input().strip().split()))\n",
    "        ob=Solution()\n",
    "        print(ob.minimumPlatform(n,arrival,departure))\n",
    "# } Driver Code Ends"
   ]
  },
  {
   "cell_type": "code",
   "execution_count": null,
   "metadata": {},
   "outputs": [],
   "source": []
  }
 ],
 "metadata": {
  "kernelspec": {
   "display_name": "Python 3",
   "language": "python",
   "name": "python3"
  },
  "language_info": {
   "codemirror_mode": {
    "name": "ipython",
    "version": 3
   },
   "file_extension": ".py",
   "mimetype": "text/x-python",
   "name": "python",
   "nbconvert_exporter": "python",
   "pygments_lexer": "ipython3",
   "version": "3.8.5"
  }
 },
 "nbformat": 4,
 "nbformat_minor": 4
}
