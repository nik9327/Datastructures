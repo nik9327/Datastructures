{
 "cells": [
  {
   "cell_type": "markdown",
   "metadata": {},
   "source": [
    "# Using counting method"
   ]
  },
  {
   "cell_type": "code",
   "execution_count": 22,
   "metadata": {},
   "outputs": [
    {
     "name": "stdout",
     "output_type": "stream",
     "text": [
      "0 0 0 1 1 1 1 1 1 2 2 2 "
     ]
    }
   ],
   "source": [
    "def sortArr(arr,n):\n",
    "    cnt0=0\n",
    "    cnt1=0\n",
    "    cnt2=0\n",
    "    for i in range(n):\n",
    "        if arr[i]==0:\n",
    "            cnt0+=1\n",
    "        elif arr[i]==1:\n",
    "            cnt1+=1\n",
    "        else:\n",
    "            cnt2+=1\n",
    "    i=0\n",
    "    while cnt0>0:\n",
    "        arr[i]=0\n",
    "        i+=1\n",
    "        cnt0-=1\n",
    "    while cnt1>0:\n",
    "        arr[i]=1\n",
    "        i+=1\n",
    "        cnt1-=1\n",
    "    while cnt2>0:\n",
    "        arr[i]=2\n",
    "        i+=1\n",
    "        cnt2-=1\n",
    "    return arr\n",
    "arr=[0,1,2,1,1,0,2,1,0,2,1,1]\n",
    "n=len(arr)\n",
    "x=sortArr(arr,n)\n",
    "for i in range(len(x)):\n",
    "    print(x[i],end=\" \")"
   ]
  },
  {
   "cell_type": "code",
   "execution_count": 27,
   "metadata": {},
   "outputs": [
    {
     "name": "stdout",
     "output_type": "stream",
     "text": [
      "0 0 0 1 1 1 1 2 2 2 "
     ]
    }
   ],
   "source": [
    "def sortArr2(arr,n):\n",
    "    zp=0\n",
    "    op=0\n",
    "    tp=n-1\n",
    "    while op<=tp:\n",
    "        if arr[op]==0:\n",
    "            arr[zp],arr[op]=arr[op],arr[zp]\n",
    "            zp=zp+1\n",
    "            op=op+1\n",
    "        elif arr[op]==1:\n",
    "            op+=1\n",
    "        else:\n",
    "            arr[op],arr[tp]=arr[tp],arr[op]\n",
    "            tp-=1\n",
    "    return arr\n",
    "    \n",
    "arr1=[0,1,2,0,2,1,0,2,1,1]\n",
    "n=len(arr1)\n",
    "x=sortArr2(arr1,n)\n",
    "for i in range(len(x)):\n",
    "    print(x[i],end=\" \")"
   ]
  },
  {
   "cell_type": "code",
   "execution_count": null,
   "metadata": {},
   "outputs": [],
   "source": []
  }
 ],
 "metadata": {
  "kernelspec": {
   "display_name": "Python 3",
   "language": "python",
   "name": "python3"
  },
  "language_info": {
   "codemirror_mode": {
    "name": "ipython",
    "version": 3
   },
   "file_extension": ".py",
   "mimetype": "text/x-python",
   "name": "python",
   "nbconvert_exporter": "python",
   "pygments_lexer": "ipython3",
   "version": "3.8.5"
  }
 },
 "nbformat": 4,
 "nbformat_minor": 4
}
