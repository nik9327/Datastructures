{
 "cells": [
  {
   "cell_type": "markdown",
   "metadata": {},
   "source": [
    "# Left most and right most index \n"
   ]
  },
  {
   "cell_type": "code",
   "execution_count": null,
   "metadata": {},
   "outputs": [
    {
     "name": "stdout",
     "output_type": "stream",
     "text": [
      "1\n",
      "9\n",
      "1 2 3 3 3 3 3 4 5 9\n",
      "3\n"
     ]
    }
   ],
   "source": [
    "#User function Template for python3\n",
    "\n",
    "class Solution:\n",
    "    def indexes(self, v, x):\n",
    "        # Your code goes here\n",
    "        low=0\n",
    "        n=len(v)\n",
    "        high=n-1\n",
    "        res=-1\n",
    "        while low<=high:\n",
    "            mid=(low+high)//2\n",
    "            if v[mid]>x:\n",
    "                high=mid-1\n",
    "            elif v[mid]<x:\n",
    "                low=mid+1\n",
    "            else:\n",
    "                res=mid\n",
    "                #high=mid-1\n",
    "        return res,self.last(v,x)\n",
    "        \n",
    "    def last(self,v,x):\n",
    "        low=0\n",
    "        n=len(v)\n",
    "        high=n-1\n",
    "        res=-1\n",
    "        while low<=high:\n",
    "            mid=(low+high)//2\n",
    "            if v[mid]>x:\n",
    "                high=mid-1\n",
    "            elif v[mid]<x:\n",
    "                low=mid+1\n",
    "            else:\n",
    "                res=mid\n",
    "                #low=mid+1\n",
    "        return res\n",
    "#{ \n",
    "#  Driver Code Starts\n",
    "#Initial Template for Python 3\n",
    "\n",
    "def main():\n",
    "\n",
    "    T = int(input())\n",
    "\n",
    "    while(T > 0):\n",
    "        n = int(input())\n",
    "        a = [int(x) for x in input().strip().split()]\n",
    "        k = int(input())\n",
    "        obj = Solution()\n",
    "        ans = obj.indexes(a, k)\n",
    "        if ans[0]==-1 and ans[1]==-1:\n",
    "            print(-1)\n",
    "        else:\n",
    "            print(ans[0], end=' ')\n",
    "            print(ans[1])\n",
    "\n",
    "        T -= 1\n",
    "\n",
    "\n",
    "if __name__ == \"__main__\":\n",
    "    main()\n",
    "\n",
    "\n",
    "# } Driver Code Ends"
   ]
  },
  {
   "cell_type": "markdown",
   "metadata": {},
   "source": [
    "# input for the matrix"
   ]
  },
  {
   "cell_type": "code",
   "execution_count": 26,
   "metadata": {},
   "outputs": [
    {
     "name": "stdout",
     "output_type": "stream",
     "text": [
      "5\n",
      "1 \n",
      "5\n",
      "3\n",
      "6\n",
      "9\n",
      "['1 ', '5', '3', '6', '9']\n",
      "9\n",
      "6\n",
      "3\n",
      "5\n"
     ]
    }
   ],
   "source": [
    "n=int(input())\n",
    "arr=[]\n",
    "for i in range(n):\n",
    "    arr.append(input())\n",
    "x=len(arr)\n",
    "print(arr)\n",
    "for j in range(x-1,0,-1):\n",
    "    print(arr[j])\n",
    "    "
   ]
  },
  {
   "cell_type": "code",
   "execution_count": 17,
   "metadata": {},
   "outputs": [
    {
     "ename": "SyntaxError",
     "evalue": "invalid syntax (<ipython-input-17-e74d0c6270af>, line 1)",
     "output_type": "error",
     "traceback": [
      "\u001b[1;36m  File \u001b[1;32m\"<ipython-input-17-e74d0c6270af>\"\u001b[1;36m, line \u001b[1;32m1\u001b[0m\n\u001b[1;33m    If you want to take n lines of input where each line contains m space separated integers like:\u001b[0m\n\u001b[1;37m       ^\u001b[0m\n\u001b[1;31mSyntaxError\u001b[0m\u001b[1;31m:\u001b[0m invalid syntax\n"
     ]
    }
   ],
   "source": [
    "If you want to take n lines of input where each line contains m space separated integers like:\n",
    "\n",
    "1 2 3\n",
    "4 5 6 \n",
    "7 8 9 \n",
    "\n",
    "a=[] // declaration \n",
    "for i in range(0,n):   //where n is the no. of lines you want \n",
    "    a.append([int(j) for j in input().split()])  // for taking m space separated integers as input\n",
    "\n",
    "    ###########  or ##########\n",
    "\n",
    "matrix = [input().split() for i in range(no_of_rows)] # if only row is given and the number of coloumn has to be decide by user\n",
    "matrix= [[input() for j in range(no_of_cols)] for i in range(no_of_rows)] # if both row and coloumn has been taken as input from user"
   ]
  },
  {
   "cell_type": "markdown",
   "metadata": {},
   "source": [
    "# input for the matrix"
   ]
  },
  {
   "cell_type": "code",
   "execution_count": 19,
   "metadata": {},
   "outputs": [
    {
     "name": "stdout",
     "output_type": "stream",
     "text": [
      "1\n",
      "3\n",
      "1 2 3 4\n",
      "5 6 7 8\n",
      "9 10 11 12\n"
     ]
    }
   ],
   "source": [
    "t=int(input())\n",
    "for _ in range(t):\n",
    "    n= int(input())\n",
    "    matrix = []\n",
    "    for i in range(n):\n",
    "        a = list(map(int,input().split()))\n",
    "        matrix.append(a)"
   ]
  },
  {
   "cell_type": "code",
   "execution_count": null,
   "metadata": {},
   "outputs": [],
   "source": []
  },
  {
   "cell_type": "code",
   "execution_count": 5,
   "metadata": {},
   "outputs": [
    {
     "name": "stdout",
     "output_type": "stream",
     "text": [
      "9\n",
      "0\n"
     ]
    }
   ],
   "source": [
    "arr=[5,6,3,4,0,8,9]\n",
    "arr=sorted(arr)\n",
    "print(max(arr))\n",
    "print(min(arr))"
   ]
  },
  {
   "cell_type": "code",
   "execution_count": 2,
   "metadata": {},
   "outputs": [
    {
     "name": "stdout",
     "output_type": "stream",
     "text": [
      "10\n",
      "52\n",
      "35\n"
     ]
    }
   ],
   "source": [
    "import array\n",
    "arr=array.array('i',[10,52,35])\n",
    "arr\n",
    "for i in range(0,3):  # array traversing\n",
    "    print(arr[i])"
   ]
  },
  {
   "cell_type": "code",
   "execution_count": 3,
   "metadata": {},
   "outputs": [
    {
     "data": {
      "text/plain": [
       "array('i', [10, 52, 5, 35])"
      ]
     },
     "execution_count": 3,
     "metadata": {},
     "output_type": "execute_result"
    }
   ],
   "source": [
    "arr.insert(2,5)\n",
    "arr"
   ]
  },
  {
   "cell_type": "code",
   "execution_count": 4,
   "metadata": {},
   "outputs": [
    {
     "data": {
      "text/plain": [
       "5"
      ]
     },
     "execution_count": 4,
     "metadata": {},
     "output_type": "execute_result"
    }
   ],
   "source": [
    "arr.pop(2)"
   ]
  },
  {
   "cell_type": "code",
   "execution_count": 5,
   "metadata": {},
   "outputs": [],
   "source": [
    "arr.append(53)"
   ]
  },
  {
   "cell_type": "code",
   "execution_count": 6,
   "metadata": {},
   "outputs": [],
   "source": [
    "arr.remove(10)"
   ]
  },
  {
   "cell_type": "code",
   "execution_count": 7,
   "metadata": {},
   "outputs": [
    {
     "data": {
      "text/plain": [
       "1"
      ]
     },
     "execution_count": 7,
     "metadata": {},
     "output_type": "execute_result"
    }
   ],
   "source": [
    "arr.index(35)"
   ]
  },
  {
   "cell_type": "code",
   "execution_count": 8,
   "metadata": {},
   "outputs": [],
   "source": [
    "arr.reverse()"
   ]
  },
  {
   "cell_type": "code",
   "execution_count": 9,
   "metadata": {},
   "outputs": [
    {
     "data": {
      "text/plain": [
       "array('i', [53, 35, 52])"
      ]
     },
     "execution_count": 9,
     "metadata": {},
     "output_type": "execute_result"
    }
   ],
   "source": [
    "arr"
   ]
  },
  {
   "cell_type": "code",
   "execution_count": 22,
   "metadata": {},
   "outputs": [
    {
     "name": "stdout",
     "output_type": "stream",
     "text": [
      "[3, 4, 5, 6, 7, 8, 9, 1, 2]\n"
     ]
    }
   ],
   "source": [
    "arr2=[1,2,3,4,5,6,7,8,9]\n",
    "temp=[]\n",
    "for i in range(0,2):\n",
    "    temp.append(arr2[i])\n",
    "for i in range(0,1):\n",
    "    arr2.remove(arr2[i])\n",
    "print(arr2[1:]+temp)"
   ]
  },
  {
   "cell_type": "code",
   "execution_count": 16,
   "metadata": {},
   "outputs": [
    {
     "name": "stdout",
     "output_type": "stream",
     "text": [
      "2\n",
      "5 2\n",
      "1 2 3 4 5\n",
      "1 2 3 4 5 \n",
      "1d\n"
     ]
    },
    {
     "ename": "ValueError",
     "evalue": "invalid literal for int() with base 10: '1d'",
     "output_type": "error",
     "traceback": [
      "\u001b[1;31m---------------------------------------------------------------------------\u001b[0m",
      "\u001b[1;31mValueError\u001b[0m                                Traceback (most recent call last)",
      "\u001b[1;32m<ipython-input-16-9adfd3258438>\u001b[0m in \u001b[0;36m<module>\u001b[1;34m\u001b[0m\n\u001b[0;32m     37\u001b[0m \u001b[1;33m\u001b[0m\u001b[0m\n\u001b[0;32m     38\u001b[0m \u001b[1;32mif\u001b[0m \u001b[0m__name__\u001b[0m\u001b[1;33m==\u001b[0m\u001b[1;34m\"__main__\"\u001b[0m\u001b[1;33m:\u001b[0m\u001b[1;33m\u001b[0m\u001b[1;33m\u001b[0m\u001b[0m\n\u001b[1;32m---> 39\u001b[1;33m     \u001b[0mmain\u001b[0m\u001b[1;33m(\u001b[0m\u001b[1;33m)\u001b[0m\u001b[1;33m\u001b[0m\u001b[1;33m\u001b[0m\u001b[0m\n\u001b[0m\u001b[0;32m     40\u001b[0m \u001b[1;31m# } Driver Code Ends\u001b[0m\u001b[1;33m\u001b[0m\u001b[1;33m\u001b[0m\u001b[1;33m\u001b[0m\u001b[0m\n",
      "\u001b[1;32m<ipython-input-16-9adfd3258438>\u001b[0m in \u001b[0;36mmain\u001b[1;34m()\u001b[0m\n\u001b[0;32m     22\u001b[0m \u001b[1;33m\u001b[0m\u001b[0m\n\u001b[0;32m     23\u001b[0m     \u001b[1;32mwhile\u001b[0m\u001b[1;33m(\u001b[0m\u001b[0mT\u001b[0m\u001b[1;33m>\u001b[0m\u001b[1;36m0\u001b[0m\u001b[1;33m)\u001b[0m\u001b[1;33m:\u001b[0m\u001b[1;33m\u001b[0m\u001b[1;33m\u001b[0m\u001b[0m\n\u001b[1;32m---> 24\u001b[1;33m         \u001b[0mnd\u001b[0m\u001b[1;33m=\u001b[0m\u001b[1;33m[\u001b[0m\u001b[0mint\u001b[0m\u001b[1;33m(\u001b[0m\u001b[0mx\u001b[0m\u001b[1;33m)\u001b[0m \u001b[1;32mfor\u001b[0m \u001b[0mx\u001b[0m \u001b[1;32min\u001b[0m \u001b[0minput\u001b[0m\u001b[1;33m(\u001b[0m\u001b[1;33m)\u001b[0m\u001b[1;33m.\u001b[0m\u001b[0mstrip\u001b[0m\u001b[1;33m(\u001b[0m\u001b[1;33m)\u001b[0m\u001b[1;33m.\u001b[0m\u001b[0msplit\u001b[0m\u001b[1;33m(\u001b[0m\u001b[1;33m)\u001b[0m\u001b[1;33m]\u001b[0m\u001b[1;33m\u001b[0m\u001b[1;33m\u001b[0m\u001b[0m\n\u001b[0m\u001b[0;32m     25\u001b[0m         \u001b[0mN\u001b[0m\u001b[1;33m=\u001b[0m\u001b[0mnd\u001b[0m\u001b[1;33m[\u001b[0m\u001b[1;36m0\u001b[0m\u001b[1;33m]\u001b[0m\u001b[1;33m\u001b[0m\u001b[1;33m\u001b[0m\u001b[0m\n\u001b[0;32m     26\u001b[0m         \u001b[0mD\u001b[0m\u001b[1;33m=\u001b[0m\u001b[0mnd\u001b[0m\u001b[1;33m[\u001b[0m\u001b[1;36m1\u001b[0m\u001b[1;33m]\u001b[0m\u001b[1;33m\u001b[0m\u001b[1;33m\u001b[0m\u001b[0m\n",
      "\u001b[1;32m<ipython-input-16-9adfd3258438>\u001b[0m in \u001b[0;36m<listcomp>\u001b[1;34m(.0)\u001b[0m\n\u001b[0;32m     22\u001b[0m \u001b[1;33m\u001b[0m\u001b[0m\n\u001b[0;32m     23\u001b[0m     \u001b[1;32mwhile\u001b[0m\u001b[1;33m(\u001b[0m\u001b[0mT\u001b[0m\u001b[1;33m>\u001b[0m\u001b[1;36m0\u001b[0m\u001b[1;33m)\u001b[0m\u001b[1;33m:\u001b[0m\u001b[1;33m\u001b[0m\u001b[1;33m\u001b[0m\u001b[0m\n\u001b[1;32m---> 24\u001b[1;33m         \u001b[0mnd\u001b[0m\u001b[1;33m=\u001b[0m\u001b[1;33m[\u001b[0m\u001b[0mint\u001b[0m\u001b[1;33m(\u001b[0m\u001b[0mx\u001b[0m\u001b[1;33m)\u001b[0m \u001b[1;32mfor\u001b[0m \u001b[0mx\u001b[0m \u001b[1;32min\u001b[0m \u001b[0minput\u001b[0m\u001b[1;33m(\u001b[0m\u001b[1;33m)\u001b[0m\u001b[1;33m.\u001b[0m\u001b[0mstrip\u001b[0m\u001b[1;33m(\u001b[0m\u001b[1;33m)\u001b[0m\u001b[1;33m.\u001b[0m\u001b[0msplit\u001b[0m\u001b[1;33m(\u001b[0m\u001b[1;33m)\u001b[0m\u001b[1;33m]\u001b[0m\u001b[1;33m\u001b[0m\u001b[1;33m\u001b[0m\u001b[0m\n\u001b[0m\u001b[0;32m     25\u001b[0m         \u001b[0mN\u001b[0m\u001b[1;33m=\u001b[0m\u001b[0mnd\u001b[0m\u001b[1;33m[\u001b[0m\u001b[1;36m0\u001b[0m\u001b[1;33m]\u001b[0m\u001b[1;33m\u001b[0m\u001b[1;33m\u001b[0m\u001b[0m\n\u001b[0;32m     26\u001b[0m         \u001b[0mD\u001b[0m\u001b[1;33m=\u001b[0m\u001b[0mnd\u001b[0m\u001b[1;33m[\u001b[0m\u001b[1;36m1\u001b[0m\u001b[1;33m]\u001b[0m\u001b[1;33m\u001b[0m\u001b[1;33m\u001b[0m\u001b[0m\n",
      "\u001b[1;31mValueError\u001b[0m: invalid literal for int() with base 10: '1d'"
     ]
    }
   ],
   "source": [
    "#User function Template for python3\n",
    "\n",
    "class Solution:\n",
    "    #Function to rotate an array by d elements in counter-clockwise direction. \n",
    "    def rotateArr(self,arr,D,N):\n",
    "        #Your code here\n",
    "        temp=[]\n",
    "        temp2=[]\n",
    "        for i in range(0,D):\n",
    "            temp.append(arr[i])\n",
    "        for j in range(D,N):\n",
    "            temp2.append(arr[j])\n",
    "        temp2=temp2+temp\n",
    "        \n",
    "#{ \n",
    "#  Driver Code Starts\n",
    "#Initial Template for Python 3\n",
    "\n",
    "import math\n",
    "def main():\n",
    "    T=int(input())\n",
    "    \n",
    "    while(T>0):\n",
    "        nd=[int(x) for x in input().strip().split()]\n",
    "        N=nd[0]\n",
    "        D=nd[1]\n",
    "        A=[int(x) for x in input().strip().split()]\n",
    "        ob=Solution()\n",
    "        ob.rotateArr(A,D,N)\n",
    "        \n",
    "        for i in A:\n",
    "            print(i,end=\" \")\n",
    "            \n",
    "        print()\n",
    "       \n",
    "        T-=1\n",
    "\n",
    "if __name__==\"__main__\":\n",
    "    main()\n",
    "# } Driver Code Ends"
   ]
  },
  {
   "cell_type": "code",
   "execution_count": 14,
   "metadata": {},
   "outputs": [
    {
     "data": {
      "text/plain": [
       "4"
      ]
     },
     "execution_count": 14,
     "metadata": {},
     "output_type": "execute_result"
    }
   ],
   "source": [
    "# liner search\n",
    "def linear(arr,key):\n",
    "    for i in range(len(arr)):\n",
    "        if arr[i] == key:\n",
    "            return i\n",
    "arr=[10,26,27,52,16,264,254,29]\n",
    "key=16\n",
    "linear(arr,key)"
   ]
  },
  {
   "cell_type": "code",
   "execution_count": 3,
   "metadata": {},
   "outputs": [
    {
     "data": {
      "text/plain": [
       "3"
      ]
     },
     "execution_count": 3,
     "metadata": {},
     "output_type": "execute_result"
    }
   ],
   "source": [
    "# binary search in an array\n",
    "def binary(arr,low,high,key):\n",
    "    mid = (low +high)//2\n",
    "    if low > high:\n",
    "        return -1\n",
    "    if arr[mid] == key:\n",
    "        return mid\n",
    "    if arr[mid] > key:\n",
    "        return binary(arr,low,mid-1,key)\n",
    "    else: \n",
    "        return binary (arr,mid+1,high,key)\n",
    "arr=[10,20,62,65,75,88]\n",
    "key=65\n",
    "binary(arr,0,len(arr)-1,key)"
   ]
  },
  {
   "cell_type": "code",
   "execution_count": 10,
   "metadata": {},
   "outputs": [
    {
     "data": {
      "text/plain": [
       "2"
      ]
     },
     "execution_count": 10,
     "metadata": {},
     "output_type": "execute_result"
    }
   ],
   "source": [
    "def binarysearch(arr, N, k):\n",
    "        # code here\n",
    "        low=0\n",
    "        high=N-1\n",
    "        while low<=high:\n",
    "            mid=(low+high)//2\n",
    "            if arr[mid]==k:\n",
    "                return mid\n",
    "            elif arr[mid]>k:\n",
    "                high=mid-1\n",
    "            else:\n",
    "                low=mid+1\n",
    "        return -1\n",
    "arr=[10,20,62,65,75,88]\n",
    "key=62\n",
    "binarysearch(arr,len(arr),key)"
   ]
  },
  {
   "cell_type": "code",
   "execution_count": 32,
   "metadata": {},
   "outputs": [
    {
     "name": "stdout",
     "output_type": "stream",
     "text": [
      "[16, 185, 17, 165, 852, 4125, 82, 141, 12, 98]\n",
      "[16, 17, 185, 165, 852, 4125, 82, 141, 12, 98]\n",
      "[16, 17, 165, 185, 852, 4125, 82, 141, 12, 98]\n",
      "[16, 17, 165, 185, 852, 82, 4125, 141, 12, 98]\n",
      "[16, 17, 165, 185, 852, 82, 141, 4125, 12, 98]\n",
      "[16, 17, 165, 185, 852, 82, 141, 12, 4125, 98]\n",
      "[16, 17, 165, 185, 852, 82, 141, 12, 98, 4125]\n",
      "[16, 17, 165, 185, 82, 852, 141, 12, 98, 4125]\n",
      "[16, 17, 165, 185, 82, 141, 852, 12, 98, 4125]\n",
      "[16, 17, 165, 185, 82, 141, 12, 852, 98, 4125]\n",
      "[16, 17, 165, 185, 82, 141, 12, 98, 852, 4125]\n",
      "[16, 17, 165, 82, 185, 141, 12, 98, 852, 4125]\n",
      "[16, 17, 165, 82, 141, 185, 12, 98, 852, 4125]\n",
      "[16, 17, 165, 82, 141, 12, 185, 98, 852, 4125]\n",
      "[16, 17, 165, 82, 141, 12, 98, 185, 852, 4125]\n",
      "[16, 17, 82, 165, 141, 12, 98, 185, 852, 4125]\n",
      "[16, 17, 82, 141, 165, 12, 98, 185, 852, 4125]\n",
      "[16, 17, 82, 141, 12, 165, 98, 185, 852, 4125]\n",
      "[16, 17, 82, 141, 12, 98, 165, 185, 852, 4125]\n",
      "[16, 17, 82, 12, 141, 98, 165, 185, 852, 4125]\n",
      "[16, 17, 82, 12, 98, 141, 165, 185, 852, 4125]\n",
      "[16, 17, 12, 82, 98, 141, 165, 185, 852, 4125]\n",
      "[16, 12, 17, 82, 98, 141, 165, 185, 852, 4125]\n",
      "[12, 16, 17, 82, 98, 141, 165, 185, 852, 4125]\n"
     ]
    },
    {
     "data": {
      "text/plain": [
       "[12, 16, 17, 82, 98, 141, 165, 185, 852, 4125]"
      ]
     },
     "execution_count": 32,
     "metadata": {},
     "output_type": "execute_result"
    }
   ],
   "source": [
    "# bubble sort\n",
    "def bubble(arr):\n",
    "    n=len(arr)\n",
    "    for i in range(n):\n",
    "        for j in range(n-i-1):\n",
    "            if arr[j] > arr[j+1]:\n",
    "                arr[j],arr[j+1]=arr[j+1],arr[j]\n",
    "                print(arr)\n",
    "    return arr\n",
    "arr=[185,16,17,165,852,4125,82,141,12,98]\n",
    "bubble(arr)"
   ]
  },
  {
   "cell_type": "code",
   "execution_count": 30,
   "metadata": {},
   "outputs": [
    {
     "name": "stdout",
     "output_type": "stream",
     "text": [
      "[16, 185, 17, 165, 852, 45, 11]\n",
      "[16, 17, 185, 165, 852, 45, 11]\n",
      "[16, 17, 165, 185, 852, 45, 11]\n",
      "[16, 17, 165, 185, 852, 45, 11]\n",
      "[16, 17, 45, 165, 185, 852, 11]\n",
      "[11, 16, 17, 45, 165, 185, 852]\n"
     ]
    },
    {
     "data": {
      "text/plain": [
       "[11, 16, 17, 45, 165, 185, 852]"
      ]
     },
     "execution_count": 30,
     "metadata": {},
     "output_type": "execute_result"
    }
   ],
   "source": [
    "def insertion(arr):\n",
    "    for i in range(1,len(arr)):\n",
    "        key=arr[i]\n",
    "        j=i-1\n",
    "        while j>=0 and arr[j]>key:\n",
    "            arr[j+1]=arr[j]\n",
    "            j-=1\n",
    "            \n",
    "        arr[j+1]=key\n",
    "        print(arr)\n",
    "            \n",
    "    return arr\n",
    "arr=[185,16,17,165,852,45,11]\n",
    "insertion(arr)"
   ]
  },
  {
   "cell_type": "code",
   "execution_count": 40,
   "metadata": {},
   "outputs": [
    {
     "data": {
      "text/plain": [
       "[45, 165, 169, 171, 185, 852, 15111]"
      ]
     },
     "execution_count": 40,
     "metadata": {},
     "output_type": "execute_result"
    }
   ],
   "source": [
    "def merge(arr):\n",
    "    if len(arr) > 1:\n",
    "        mid=len(arr)//2\n",
    "        L=arr[:mid]\n",
    "        R=arr[mid:]\n",
    "        merge(L)\n",
    "        merge(R)\n",
    "        i = j = k = 0\n",
    "        while i<len(L) and j< len(R):\n",
    "            if L[i] > R[j]:\n",
    "                arr[k]=R[j]\n",
    "                j+=1\n",
    "            else:\n",
    "                arr[k] = L[i]\n",
    "                i+=1\n",
    "            k+=1\n",
    "        while i < len(L):\n",
    "            arr[k]=L[i]\n",
    "            i+=1\n",
    "            k+=1\n",
    "        while j < len(R):\n",
    "            arr[k]=R[j]\n",
    "            j+=1\n",
    "            k+=1\n",
    "    return arr\n",
    "arr=[185,169,171,165,852,45,15111]\n",
    "merge(arr)          \n",
    "        "
   ]
  },
  {
   "cell_type": "code",
   "execution_count": 1,
   "metadata": {},
   "outputs": [
    {
     "data": {
      "text/plain": [
       "[45, 165, 169, 171, 185, 852, 15111]"
      ]
     },
     "execution_count": 1,
     "metadata": {},
     "output_type": "execute_result"
    }
   ],
   "source": [
    "def selection(arr):\n",
    "    for i in range(len(arr)):\n",
    "        min=i\n",
    "        for j in range(i+1,len(arr)):\n",
    "            if arr[min]>arr[j]:\n",
    "                min=j\n",
    "        arr[i],arr[min]=arr[min],arr[i]\n",
    "        \n",
    "    \n",
    "    return arr\n",
    "arr=[185,169,171,165,852,45,15111]\n",
    "selection(arr)\n",
    "            "
   ]
  },
  {
   "cell_type": "markdown",
   "metadata": {},
   "source": [
    "# shell sort"
   ]
  },
  {
   "cell_type": "code",
   "execution_count": 61,
   "metadata": {},
   "outputs": [
    {
     "name": "stdout",
     "output_type": "stream",
     "text": [
      "7\n",
      "8\n",
      "9\n",
      "5\n",
      "3\n",
      "6\n",
      "4\n",
      "1\n",
      "[1, 3, 4, 5, 6, 8, 9]\n"
     ]
    }
   ],
   "source": [
    "def shellsort(a):\n",
    "    gap=len(a)//2\n",
    "    while gap>0:\n",
    "        for i in range(gap,len(list1)):\n",
    "            cur=a[i]\n",
    "            pos=i\n",
    "            while pos >= gap and cur < a[pos-gap]:\n",
    "                a[pos]=a[pos-gap]\n",
    "                pos=pos-gap\n",
    "            a[pos]= cur\n",
    "        gap=gap//2\n",
    "        \n",
    "num=int(input())\n",
    "list1=[int(input()) for i in range(num)]\n",
    "shellsort(list1)\n",
    "print(list1)"
   ]
  },
  {
   "cell_type": "code",
   "execution_count": 10,
   "metadata": {},
   "outputs": [
    {
     "ename": "IndentationError",
     "evalue": "unexpected indent (<ipython-input-10-2ee7a15b1e28>, line 15)",
     "output_type": "error",
     "traceback": [
      "\u001b[1;36m  File \u001b[1;32m\"<ipython-input-10-2ee7a15b1e28>\"\u001b[1;36m, line \u001b[1;32m15\u001b[0m\n\u001b[1;33m    if start<end:\u001b[0m\n\u001b[1;37m    ^\u001b[0m\n\u001b[1;31mIndentationError\u001b[0m\u001b[1;31m:\u001b[0m unexpected indent\n"
     ]
    }
   ],
   "source": [
    "def partition(arr,start,end):\n",
    "    pivot=arr[i]\n",
    "    while start<end:\n",
    "        while arr[start]<=pivot:\n",
    "            start+=1\n",
    "        while arr[end]> pivot:\n",
    "            end-=1\n",
    "        arr[start],arr[end]=arr[end],arr[start]\n",
    "\n",
    "\n",
    "arr=[20,6,59,1,64,48,15,48,952]\n",
    "start=arr[0]\n",
    "end=arr[len(arr)-1]\n",
    "quicksort(arr,start,end)\n",
    "    if start<end:\n",
    "        loc=partition(arr,start,end)\n",
    "        quicksort(arr,low,loc-1)\n",
    "        quicksort(arr,loc+1,end)"
   ]
  },
  {
   "cell_type": "code",
   "execution_count": 48,
   "metadata": {},
   "outputs": [
    {
     "name": "stdout",
     "output_type": "stream",
     "text": [
      "c s 5\n",
      "26 63 13\n",
      "Name: s, c\n",
      "ID: 5\n",
      "Grade: T\n"
     ]
    }
   ],
   "source": [
    "class Person:\n",
    "\tdef __init__(self, firstName, lastName, idNumber):\n",
    "\t\tself.firstName = firstName\n",
    "\t\tself.lastName = lastName\n",
    "\t\tself.idNumber = idNumber\n",
    "\tdef printPerson(self):\n",
    "\t\tprint(\"Name:\", self.lastName + \",\", self.firstName)\n",
    "\t\tprint(\"ID:\", self.idNumber)\n",
    "\n",
    "class Student(Person):\n",
    "    #   Class Constructor\n",
    "    #   \n",
    "    #   Parameters:\n",
    "    #   firstName - A string denoting the Person's first name.\n",
    "    #   lastName - A string denoting the Person's last name.\n",
    "    #   id - An integer denoting the Person's ID number.\n",
    "    #   scores - An array of integers denoting the Person's test scores.\n",
    "    #\n",
    "    # Write your constructor here\n",
    "    def __init__(self,firstName,lastName,idNumber,scores):\n",
    "        super().__init__(firstName,lastName,idNumber)\n",
    "        self.scores = scores\n",
    "    def calculate(self):\n",
    "        scores= 0\n",
    "        for i in self.scores:\n",
    "            scores+=i\n",
    "        avg=scores/len(self.scores)\n",
    "        if avg<=100 and avg>=90:\n",
    "            return 'O'\n",
    "        elif avg < 90 and avg >=80:\n",
    "            return 'E'\n",
    "        elif avg < 80 and avg >= 70:\n",
    "            return 'A'\n",
    "        elif avg < 70 and avg >=55:\n",
    "            return 'P'\n",
    "        elif avg < 55 and avg >= 40:\n",
    "            return 'D'\n",
    "        else:\n",
    "            return 'T'\n",
    "    #   Function Name: calculate\n",
    "    #   Return: A character denoting the grade.\n",
    "    #\n",
    "    # Write your function here\n",
    "\n",
    "line = input().split()\n",
    "firstName = line[0]\n",
    "lastName = line[1]\n",
    "idNum = line[2]\n",
    "#numScores = int(input()) # not needed for Python\n",
    "scores = list( map(int, input().split()) )\n",
    "s = Student(firstName, lastName, idNum, scores)\n",
    "s.printPerson()\n",
    "print(\"Grade:\", s.calculate())"
   ]
  },
  {
   "cell_type": "code",
   "execution_count": 14,
   "metadata": {},
   "outputs": [
    {
     "name": "stdout",
     "output_type": "stream",
     "text": [
      "1 1 1 0 0 0\n",
      "0 1 0 0 0 0\n",
      "1 1 1 0 0 0\n",
      "0 0 2 4 4 0\n",
      "0 0 0 2 0 0\n",
      "0 0 1 2 4 0\n"
     ]
    },
    {
     "ename": "TypeError",
     "evalue": "'map' object is not subscriptable",
     "output_type": "error",
     "traceback": [
      "\u001b[1;31m---------------------------------------------------------------------------\u001b[0m",
      "\u001b[1;31mTypeError\u001b[0m                                 Traceback (most recent call last)",
      "\u001b[1;32m<ipython-input-14-bfc1b789c17c>\u001b[0m in \u001b[0;36m<module>\u001b[1;34m\u001b[0m\n\u001b[0;32m     17\u001b[0m \u001b[1;32mfor\u001b[0m \u001b[0mx\u001b[0m \u001b[1;32min\u001b[0m \u001b[0mrange\u001b[0m\u001b[1;33m(\u001b[0m\u001b[1;36m0\u001b[0m\u001b[1;33m,\u001b[0m \u001b[1;36m4\u001b[0m\u001b[1;33m)\u001b[0m\u001b[1;33m:\u001b[0m\u001b[1;33m\u001b[0m\u001b[1;33m\u001b[0m\u001b[0m\n\u001b[0;32m     18\u001b[0m     \u001b[1;32mfor\u001b[0m \u001b[0my\u001b[0m \u001b[1;32min\u001b[0m \u001b[0mrange\u001b[0m\u001b[1;33m(\u001b[0m\u001b[1;36m0\u001b[0m\u001b[1;33m,\u001b[0m \u001b[1;36m4\u001b[0m\u001b[1;33m)\u001b[0m\u001b[1;33m:\u001b[0m\u001b[1;33m\u001b[0m\u001b[1;33m\u001b[0m\u001b[0m\n\u001b[1;32m---> 19\u001b[1;33m         \u001b[0ms\u001b[0m \u001b[1;33m=\u001b[0m \u001b[0msum\u001b[0m\u001b[1;33m(\u001b[0m\u001b[0marr\u001b[0m\u001b[1;33m[\u001b[0m\u001b[0mx\u001b[0m\u001b[1;33m]\u001b[0m\u001b[1;33m[\u001b[0m\u001b[0my\u001b[0m\u001b[1;33m:\u001b[0m\u001b[0my\u001b[0m\u001b[1;33m+\u001b[0m\u001b[1;36m3\u001b[0m\u001b[1;33m]\u001b[0m\u001b[1;33m)\u001b[0m \u001b[1;33m+\u001b[0m \u001b[0marr\u001b[0m\u001b[1;33m[\u001b[0m\u001b[0mx\u001b[0m\u001b[1;33m+\u001b[0m\u001b[1;36m1\u001b[0m\u001b[1;33m]\u001b[0m\u001b[1;33m[\u001b[0m\u001b[0my\u001b[0m\u001b[1;33m+\u001b[0m\u001b[1;36m1\u001b[0m\u001b[1;33m]\u001b[0m \u001b[1;33m+\u001b[0m \u001b[0msum\u001b[0m\u001b[1;33m(\u001b[0m\u001b[0marr\u001b[0m\u001b[1;33m[\u001b[0m\u001b[0mx\u001b[0m\u001b[1;33m+\u001b[0m\u001b[1;36m2\u001b[0m\u001b[1;33m]\u001b[0m\u001b[1;33m[\u001b[0m\u001b[0my\u001b[0m\u001b[1;33m:\u001b[0m\u001b[0my\u001b[0m\u001b[1;33m+\u001b[0m\u001b[1;36m3\u001b[0m\u001b[1;33m]\u001b[0m\u001b[1;33m)\u001b[0m\u001b[1;33m\u001b[0m\u001b[1;33m\u001b[0m\u001b[0m\n\u001b[0m\u001b[0;32m     20\u001b[0m         \u001b[0mres\u001b[0m\u001b[1;33m.\u001b[0m\u001b[0mappend\u001b[0m\u001b[1;33m(\u001b[0m\u001b[0ms\u001b[0m\u001b[1;33m)\u001b[0m\u001b[1;33m\u001b[0m\u001b[1;33m\u001b[0m\u001b[0m\n\u001b[0;32m     21\u001b[0m \u001b[1;33m\u001b[0m\u001b[0m\n",
      "\u001b[1;31mTypeError\u001b[0m: 'map' object is not subscriptable"
     ]
    }
   ],
   "source": [
    "#!/bin/python3\n",
    "\n",
    "import math\n",
    "import os\n",
    "import random\n",
    "import re\n",
    "import sys\n",
    "\n",
    "\n",
    "arr = []\n",
    "for arr_i in range(6):\n",
    "    arr_temp = map(int,input().strip().split(' '))\n",
    "    arr.append(arr_temp)\n",
    "\n",
    "res = []\n",
    "\n",
    "for x in range(0, 4):\n",
    "    for y in range(0, 4):\n",
    "        s = sum(arr[x][y:y+3]) + arr[x+1][y+1] + sum(arr[x+2][y:y+3])\n",
    "        res.append(s)\n",
    "\n",
    "print(max(res))\n"
   ]
  },
  {
   "cell_type": "code",
   "execution_count": null,
   "metadata": {},
   "outputs": [],
   "source": [
    "#User function Template for python3\n",
    "\n",
    "class Solution:\n",
    "    def sort012(self,arr,n):\n",
    "        # code here\n",
    "        ele0=0\n",
    "        ele1=0\n",
    "        ele2=0\n",
    "        for i in range(n):\n",
    "            if arr[i]==0:\n",
    "                ele0+=1\n",
    "            elif arr[i]==1:\n",
    "                ele1+=1\n",
    "            else:\n",
    "                ele2+=1\n",
    "        i=0\n",
    "        \n",
    "        while ele0>0:\n",
    "            arr[i]=0\n",
    "            i+=1\n",
    "            ele0-=1\n",
    "        while ele1>0:\n",
    "            arr[i]=1\n",
    "            i+=1\n",
    "            ele1-=1\n",
    "        while ele2>0:\n",
    "            arr[i]=2\n",
    "            i+=1\n",
    "            ele2-=1    \n",
    "        return arr\n",
    "#{ \n",
    "#  Driver Code Starts\n",
    "#Initial Template for Python 3\n",
    "\n",
    "if __name__ == '__main__':\n",
    "    t=int(input())\n",
    "    for _ in range(t):\n",
    "        n=int(input())\n",
    "        arr=[int(x) for x in input().strip().split()]\n",
    "        ob=Solution()\n",
    "        ob.sort012(arr,n)\n",
    "        for i in arr:\n",
    "            print(i, end=' ')\n",
    "        print()\n",
    "\n",
    "# } Driver Code Ends"
   ]
  },
  {
   "cell_type": "code",
   "execution_count": 10,
   "metadata": {},
   "outputs": [
    {
     "name": "stdout",
     "output_type": "stream",
     "text": [
      "2\n",
      "1 2 7 \n",
      "1 5 5 6 \n"
     ]
    },
    {
     "ename": "IndexError",
     "evalue": "list index out of range",
     "output_type": "error",
     "traceback": [
      "\u001b[1;31m---------------------------------------------------------------------------\u001b[0m",
      "\u001b[1;31mIndexError\u001b[0m                                Traceback (most recent call last)",
      "\u001b[1;32m<ipython-input-10-ac60e035154d>\u001b[0m in \u001b[0;36m<module>\u001b[1;34m\u001b[0m\n\u001b[0;32m     21\u001b[0m     \u001b[0mx\u001b[0m\u001b[1;33m=\u001b[0m\u001b[0ml\u001b[0m\u001b[1;33m[\u001b[0m\u001b[1;36m1\u001b[0m\u001b[1;33m]\u001b[0m\u001b[1;33m\u001b[0m\u001b[1;33m\u001b[0m\u001b[0m\n\u001b[0;32m     22\u001b[0m     \u001b[0marr\u001b[0m\u001b[1;33m=\u001b[0m\u001b[0mlist\u001b[0m\u001b[1;33m(\u001b[0m\u001b[0mmap\u001b[0m\u001b[1;33m(\u001b[0m\u001b[0mint\u001b[0m\u001b[1;33m,\u001b[0m\u001b[0minput\u001b[0m\u001b[1;33m(\u001b[0m\u001b[1;33m)\u001b[0m\u001b[1;33m.\u001b[0m\u001b[0msplit\u001b[0m\u001b[1;33m(\u001b[0m\u001b[1;33m)\u001b[0m\u001b[1;33m)\u001b[0m\u001b[1;33m)\u001b[0m\u001b[1;33m\u001b[0m\u001b[1;33m\u001b[0m\u001b[0m\n\u001b[1;32m---> 23\u001b[1;33m     \u001b[0mans\u001b[0m\u001b[1;33m=\u001b[0m\u001b[0mfind\u001b[0m\u001b[1;33m(\u001b[0m\u001b[0marr\u001b[0m\u001b[1;33m,\u001b[0m\u001b[0mn\u001b[0m\u001b[1;33m,\u001b[0m\u001b[0mx\u001b[0m\u001b[1;33m)\u001b[0m\u001b[1;33m\u001b[0m\u001b[1;33m\u001b[0m\u001b[0m\n\u001b[0m\u001b[0;32m     24\u001b[0m     \u001b[0mprint\u001b[0m\u001b[1;33m(\u001b[0m\u001b[1;33m*\u001b[0m\u001b[0mans\u001b[0m\u001b[1;33m)\u001b[0m\u001b[1;33m\u001b[0m\u001b[1;33m\u001b[0m\u001b[0m\n\u001b[0;32m     25\u001b[0m \u001b[1;31m# } Driver Code Ends\u001b[0m\u001b[1;33m\u001b[0m\u001b[1;33m\u001b[0m\u001b[1;33m\u001b[0m\u001b[0m\n",
      "\u001b[1;32m<ipython-input-10-ac60e035154d>\u001b[0m in \u001b[0;36mfind\u001b[1;34m(arr, n, x)\u001b[0m\n\u001b[0;32m      8\u001b[0m         \u001b[1;32mif\u001b[0m \u001b[0marr\u001b[0m\u001b[1;33m[\u001b[0m\u001b[0mi\u001b[0m\u001b[1;33m]\u001b[0m\u001b[1;33m==\u001b[0m\u001b[0mx\u001b[0m\u001b[1;33m:\u001b[0m\u001b[1;33m\u001b[0m\u001b[1;33m\u001b[0m\u001b[0m\n\u001b[0;32m      9\u001b[0m              \u001b[0mtemp\u001b[0m\u001b[1;33m.\u001b[0m\u001b[0mappend\u001b[0m\u001b[1;33m(\u001b[0m\u001b[0mi\u001b[0m\u001b[1;33m)\u001b[0m\u001b[1;33m\u001b[0m\u001b[1;33m\u001b[0m\u001b[0m\n\u001b[1;32m---> 10\u001b[1;33m     \u001b[0mfirst\u001b[0m\u001b[1;33m=\u001b[0m\u001b[0mtemp\u001b[0m\u001b[1;33m[\u001b[0m\u001b[1;36m0\u001b[0m\u001b[1;33m]\u001b[0m\u001b[1;33m\u001b[0m\u001b[1;33m\u001b[0m\u001b[0m\n\u001b[0m\u001b[0;32m     11\u001b[0m     \u001b[0mn\u001b[0m\u001b[1;33m=\u001b[0m\u001b[0mlen\u001b[0m\u001b[1;33m(\u001b[0m\u001b[0mtemp\u001b[0m\u001b[1;33m)\u001b[0m\u001b[1;33m\u001b[0m\u001b[1;33m\u001b[0m\u001b[0m\n\u001b[0;32m     12\u001b[0m     \u001b[0mlast\u001b[0m\u001b[1;33m=\u001b[0m\u001b[0mtemp\u001b[0m\u001b[1;33m[\u001b[0m\u001b[0mn\u001b[0m\u001b[1;33m-\u001b[0m\u001b[1;36m1\u001b[0m\u001b[1;33m]\u001b[0m\u001b[1;33m\u001b[0m\u001b[1;33m\u001b[0m\u001b[0m\n",
      "\u001b[1;31mIndexError\u001b[0m: list index out of range"
     ]
    }
   ],
   "source": [
    "#User function Template for python3\n",
    "\n",
    "\n",
    "def find(arr,n,x):\n",
    "    # code here\n",
    "    temp=[]\n",
    "    for i in range(n):\n",
    "        if arr[i]==x:\n",
    "             temp.append(i) \n",
    "    first=temp[0]\n",
    "    n=len(temp)\n",
    "    last=temp[n-1]\n",
    "    return first,last\n",
    "\n",
    "#{ \n",
    "#  Driver Code Starts\n",
    "t=int(input())\n",
    "for _ in range(0,t):\n",
    "    l=list(map(int,input().split()))\n",
    "    n=l[0]\n",
    "    x=l[1]\n",
    "    arr=list(map(int,input().split()))\n",
    "    ans=find(arr,n,x)\n",
    "    print(*ans)\n",
    "# } Driver Code Ends"
   ]
  },
  {
   "cell_type": "code",
   "execution_count": 16,
   "metadata": {},
   "outputs": [
    {
     "name": "stdout",
     "output_type": "stream",
     "text": [
      "[1, 2, 3, 4, 5, 6, 7, 8, 9, 10, 11, 12, 12, 13, 14, 15, 16, 17, 18, 19, 20, 22, 23, 24, 25, 26, 27, 28, 29, 30, 31, 32, 33, 34, 35, 36, 37, 38, 39, 40, 41, 42, 43, 44, 45, 46, 47] "
     ]
    }
   ],
   "source": [
    "\n",
    "arr[13 33 43 16 25 19 23 31 29 35 10 2 32 11 47 15 34 46 30 26 41 18 5 17 37 39 6 4 20 27 9 3 8 40 24 44 14 36 7 38 12 1 42 12 28 22 45"
   ]
  },
  {
   "cell_type": "code",
   "execution_count": 17,
   "metadata": {},
   "outputs": [
    {
     "name": "stdout",
     "output_type": "stream",
     "text": [
      "[1, 2, 3, 4, 5, 6, 7, 8, 9, 10, 11, 12, 12, 13, 14, 15, 16, 17, 18, 19, 20, 22, 23, 24, 25, 26, 27, 28, 29, 30, 31, 32, 33, 34, 35, 36, 37, 38, 39, 40, 41, 42, 43, 44, 45, 46, 47] "
     ]
    }
   ],
   "source": [
    "\n",
    "arr=[13, 33, 43, 16, 25, 19, 23, 31, 29, 35, 10, 2 ,32 ,11 ,47 ,15, 34, 46, 30, 26, 41, 18, 5 ,17, 37, 39, 6 ,4 ,20, 27, 9, 3, 8, 40, 24, 44, 14, 36, 7, 38, 12, 1, 42, 12 ,28, 22 ,45]\n",
    "arr.sort()\n",
    "print(arr,end=' ')"
   ]
  },
  {
   "cell_type": "code",
   "execution_count": 37,
   "metadata": {},
   "outputs": [
    {
     "name": "stdout",
     "output_type": "stream",
     "text": [
      "suppose your upper case is 25.5451\n"
     ]
    }
   ],
   "source": [
    "print(\"suppose your upper case is\",\"%g\" % (2.55451 * 10))"
   ]
  },
  {
   "cell_type": "code",
   "execution_count": 67,
   "metadata": {},
   "outputs": [
    {
     "name": "stdout",
     "output_type": "stream",
     "text": [
      "2567.586\n"
     ]
    }
   ],
   "source": [
    "import decimal\n",
    "\n",
    "def dropzeros(number):\n",
    "    mynum = decimal.Decimal(number).normalize()\n",
    "    # e.g 22000 --> Decimal('2.2E+4')\n",
    "    return mynum.__trunc__() if not mynum % 1 else float(mynum)\n",
    "\n",
    "\n",
    "x=dropzeros(2567.58600)\n",
    "print(x)\n"
   ]
  },
  {
   "cell_type": "code",
   "execution_count": 15,
   "metadata": {},
   "outputs": [
    {
     "name": "stdout",
     "output_type": "stream",
     "text": [
      "4 3 3 \n"
     ]
    },
    {
     "data": {
      "text/plain": [
       "[4, 3, 3]"
      ]
     },
     "execution_count": 15,
     "metadata": {},
     "output_type": "execute_result"
    }
   ],
   "source": []
  },
  {
   "cell_type": "code",
   "execution_count": 6,
   "metadata": {},
   "outputs": [
    {
     "data": {
      "text/plain": [
       "3"
      ]
     },
     "execution_count": 6,
     "metadata": {},
     "output_type": "execute_result"
    }
   ],
   "source": [
    "def minSwaps(nums):\n",
    "#Code here\n",
    "    count=0\n",
    "    i=0\n",
    "    while i<len(nums):\n",
    "        index=nums[i]-1\n",
    "        if nums[i]!=nums[index]:\n",
    "            nums[i],nums[index]=nums[index],nums[i]\n",
    "            count+=1\n",
    "        else:\n",
    "            i+=1\n",
    "    return count\n",
    "arr=[4,3,1,2]\n",
    "minSwaps(arr)"
   ]
  },
  {
   "cell_type": "code",
   "execution_count": 5,
   "metadata": {},
   "outputs": [
    {
     "name": "stdout",
     "output_type": "stream",
     "text": [
      "39\n"
     ]
    }
   ],
   "source": [
    "array1=[1,2,3,4,5]\n",
    "array2=[9,2,4,6,3]\n",
    "arr=array1+array2\n",
    "print(sum(arr))"
   ]
  },
  {
   "cell_type": "code",
   "execution_count": null,
   "metadata": {},
   "outputs": [],
   "source": []
  }
 ],
 "metadata": {
  "kernelspec": {
   "display_name": "Python 3",
   "language": "python",
   "name": "python3"
  },
  "language_info": {
   "codemirror_mode": {
    "name": "ipython",
    "version": 3
   },
   "file_extension": ".py",
   "mimetype": "text/x-python",
   "name": "python",
   "nbconvert_exporter": "python",
   "pygments_lexer": "ipython3",
   "version": "3.8.5"
  }
 },
 "nbformat": 4,
 "nbformat_minor": 4
}
